{
 "cells": [
  {
   "cell_type": "code",
   "execution_count": null,
   "metadata": {},
   "outputs": [],
   "source": [
    "# To get the Divisor Value\n",
    "print(5//3)\n",
    "# To get the Remainder Value\n",
    "print(5%3)\n",
    "# Using Escape Squences\n",
    "print(\"Qualities of a Software Developer\")\n",
    "print(\"\\t1. Curious\\n\\t2. Consistent\\n\\t3. Persistent\\n\\t4. Logical\\n\\t5. Problem Solver\")"
   ]
  },
  {
   "cell_type": "code",
   "execution_count": 10,
   "metadata": {},
   "outputs": [
    {
     "name": "stdout",
     "output_type": "stream",
     "text": [
      "NED Scholars is teaching Python\n"
     ]
    }
   ],
   "source": [
    "# Printing Variables in Print Command\n",
    "a=\"NED Scholars\"\n",
    "b=\"Python\"\n",
    "print(f\"{a} is teaching {b}\")"
   ]
  },
  {
   "cell_type": "code",
   "execution_count": null,
   "metadata": {},
   "outputs": [],
   "source": [
    "#Expressing Range\n",
    "for k in range(1, 6):\n",
    "    print(k)"
   ]
  },
  {
   "cell_type": "code",
   "execution_count": null,
   "metadata": {},
   "outputs": [],
   "source": [
    "for k in range(1,10,2):\n",
    "    print(k)"
   ]
  },
  {
   "cell_type": "code",
   "execution_count": 11,
   "metadata": {},
   "outputs": [
    {
     "name": "stdout",
     "output_type": "stream",
     "text": [
      "20\n"
     ]
    }
   ],
   "source": [
    "#Writing a function\n",
    "def multiply(num1, num2) -> int:\n",
    "    return num1*num2\n",
    "\n",
    "answer = multiply(4,5)\n",
    "print(answer)"
   ]
  },
  {
   "cell_type": "code",
   "execution_count": 15,
   "metadata": {},
   "outputs": [
    {
     "name": "stdout",
     "output_type": "stream",
     "text": [
      "Hello World\n"
     ]
    }
   ],
   "source": [
    "# Print 'Hello World' when 1 condition and for all the rest of the conditions print 'Rest of the Condition'\n",
    "a = 30\n",
    "b = 30\n",
    "if a == b:\n",
    "    print(\"Hello World\")\n",
    "else:\n",
    "    print(\"Rest of the conditions\")"
   ]
  },
  {
   "cell_type": "code",
   "execution_count": 18,
   "metadata": {},
   "outputs": [
    {
     "name": "stdout",
     "output_type": "stream",
     "text": [
      "a > b\n"
     ]
    }
   ],
   "source": [
    "#Print 'Equal' when they are equal and Print 'a>b' when a is greater then be and for rest print 'a<b'ArithmeticError\n",
    "a = 35\n",
    "b = 31\n",
    "if a == b:\n",
    "    print(\"Equal\")\n",
    "elif a > b:\n",
    "    print(\"a > b\")\n",
    "else:\n",
    "    print(\"a < b\")"
   ]
  },
  {
   "cell_type": "code",
   "execution_count": null,
   "metadata": {},
   "outputs": [],
   "source": [
    "# Delaying your program for 1 second\n",
    "import time\n",
    "time.sleep(1)"
   ]
  },
  {
   "cell_type": "code",
   "execution_count": 24,
   "metadata": {},
   "outputs": [
    {
     "name": "stdout",
     "output_type": "stream",
     "text": [
      "Hello World!!\n",
      "!\n"
     ]
    }
   ],
   "source": [
    "# String Concatenation\n",
    "\n",
    "a = \"Hello\"\n",
    "b = \" World!!\"\n",
    "c = a + b\n",
    "print(c)\n",
    "print(c[12])"
   ]
  },
  {
   "cell_type": "code",
   "execution_count": 22,
   "metadata": {},
   "outputs": [
    {
     "name": "stdout",
     "output_type": "stream",
     "text": [
      "Length of a = 5\n",
      "Length of b = 8\n",
      "Length of c = 13\n"
     ]
    }
   ],
   "source": [
    "# String Length\n",
    "a = \"Hello\"\n",
    "b = \" World!!\"\n",
    "c = a + b\n",
    "print(\"Length of a =\",len(a))\n",
    "print(\"Length of b =\",len(b))\n",
    "print(\"Length of c =\",len(c))"
   ]
  },
  {
   "cell_type": "code",
   "execution_count": 40,
   "metadata": {},
   "outputs": [
    {
     "name": "stdout",
     "output_type": "stream",
     "text": [
      "Wor\n",
      "rld!!\n",
      "olleH\n",
      "ello World!\n"
     ]
    }
   ],
   "source": [
    "# String Slicing\n",
    "a = \"Hello\"\n",
    "b = \" World!!\"\n",
    "c = a + b\n",
    "print(c[6:9])\n",
    "print(c[-5:])\n",
    "print(a[::-1])\n",
    "print(c[1:12:])"
   ]
  },
  {
   "cell_type": "code",
   "execution_count": 43,
   "metadata": {},
   "outputs": [
    {
     "name": "stdout",
     "output_type": "stream",
     "text": [
      "3\n"
     ]
    }
   ],
   "source": [
    "a = \"$Qualities of a $Software $Developer in IT\"\n",
    "print(a.count(\"$\"))"
   ]
  },
  {
   "cell_type": "code",
   "execution_count": 47,
   "metadata": {},
   "outputs": [
    {
     "name": "stdout",
     "output_type": "stream",
     "text": [
      "False\n"
     ]
    }
   ],
   "source": [
    "a = \"madam\" # is a palindrome\n",
    "b = \"112211\"\n",
    "c = \"Hello\" # is not palindrome\n",
    "\n",
    "def is_palindrome(strInput) -> bool:\n",
    "    return strInput == strInput[::-1]\n",
    "\n",
    "print(is_palindrome(c))"
   ]
  },
  {
   "cell_type": "code",
   "execution_count": 6,
   "metadata": {},
   "outputs": [
    {
     "name": "stdout",
     "output_type": "stream",
     "text": [
      "1 5 7 9\n"
     ]
    }
   ],
   "source": [
    "list1 = [1,5,7,9]\n",
    "# num1 = list1[0]\n",
    "# num2 = list1[1]\n",
    "# num3 = list1[2]\n",
    "# num4 = list1[3]\n",
    "num1, num2, num3, num4 = list1\n",
    "print(num1,num2,num3,num4)"
   ]
  }
 ],
 "metadata": {
  "kernelspec": {
   "display_name": "Python 3",
   "language": "python",
   "name": "python3"
  },
  "language_info": {
   "codemirror_mode": {
    "name": "ipython",
    "version": 3
   },
   "file_extension": ".py",
   "mimetype": "text/x-python",
   "name": "python",
   "nbconvert_exporter": "python",
   "pygments_lexer": "ipython3",
   "version": "3.12.3"
  }
 },
 "nbformat": 4,
 "nbformat_minor": 2
}
